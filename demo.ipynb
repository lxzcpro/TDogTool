{
 "cells": [
  {
   "cell_type": "code",
   "execution_count": 11,
   "metadata": {},
   "outputs": [
    {
     "name": "stdout",
     "output_type": "stream",
     "text": [
      "111\n",
      "{\"status_code\": 200, \"request_id\": \"62086070-da04-9cec-b24d-a109394486a3\", \"code\": \"\", \"message\": \"\", \"output\": {\"text\": null, \"finish_reason\": null, \"choices\": [{\"finish_reason\": \"stop\", \"message\": {\"role\": \"assistant\", \"content\": \"材料：\\n鸡蛋2个，西红柿2个，小葱1根，油2茶匙（10ml)，盐1/2茶匙（3克）\\n\\n做法：\\n\\n1. 西红柿清洗干净后切成块。鸡蛋打散，小葱切葱花备用。\\n\\n2. 锅中倒入油，大火加热，待油8成热时，倒入打散的鸡蛋，稍微凝固后用铲子戳碎，翻炒几下，盛出备用。\\n\\n3. 锅中再倒入少许油，放入西红柿块，中火慢慢煸炒，直至西红柿变得粘稠，加入适量的糖和盐调味。\\n\\n4. 炒匀后，将炒好的鸡蛋重新倒回锅中，与西红柿混合，翻炒均匀，最后撒上葱花即可出锅。\\n\\n温馨小提示：\\n\\n1. 在炒西红柿的时候加点糖可以中和其酸味，口感更好。\\n\\n2. 打鸡蛋时，可以在蛋液中加一点点水，炒出来的鸡蛋会更嫩滑。\\n\\n3. 鸡蛋不要炒得过老，稍微凝固、成型就可以出锅，等最后再放回锅中与西红柿一起炒，这样能保持鸡蛋鲜嫩的口感。\"}}]}, \"usage\": {\"input_tokens\": 12, \"output_tokens\": 259, \"total_tokens\": 271}}\n"
     ]
    }
   ],
   "source": [
    "from http import HTTPStatus\n",
    "import dashscope\n",
    "import json\n",
    "\n",
    "# ! export DASHSCOPE_API_KEY=\"sk-20e47da95e6c47c4826330347b0a7ccc\"\n",
    "dashscope.api_key = \"sk-20e47da95e6c47c4826330347b0a7ccc\"\n",
    "model_name = \"qwen_max\"\n",
    "\n",
    "def call_with_messages(input):\n",
    "    messages = [{'role': 'system', 'content': 'You are a helpful assistant.'},\n",
    "                {'role': 'user', 'content': input}]\n",
    "    \n",
    "    model = getattr(dashscope.Generation.Models, model_name)\n",
    "    response = dashscope.Generation.call(\n",
    "        model,\n",
    "        messages=messages,\n",
    "        result_format='message',  # set the result to be \"message\" format.\n",
    "    )\n",
    "    if response.status_code == HTTPStatus.OK:\n",
    "        return response\n",
    "    else:\n",
    "        print('Request id: %s, Status code: %s, error code: %s, error message: %s' % (\n",
    "            response.request_id, response.status_code,\n",
    "            response.code, response.message\n",
    "        ))\n",
    "\n",
    "response = call_with_messages()\n",
    "# response_dict = json.loads(response)\n",
    "# print(response_dict.output.choices[0].message.content) #FIXME: 无法解析response\n",
    "print(111)\n",
    "print(response)"
   ]
  },
  {
   "cell_type": "code",
   "execution_count": 7,
   "metadata": {},
   "outputs": [
    {
     "name": "stdout",
     "output_type": "stream",
     "text": [
      "材料：\n",
      "鸡蛋2个，西红柿2个，葱花适量，盐适量，糖适量，食用油适量\n",
      "\n",
      "做法：\n",
      "\n",
      "1. 首先将鸡蛋打入碗中，加入少许盐，用筷子充分搅打均匀，使蛋清和蛋黄完全融合。\n",
      "\n",
      "2. 西红柿洗净后，在底部划十字刀口，放入开水中烫一下去皮，然后切成块状备用。\n",
      "\n",
      "3. 热锅凉油，油热后倒入打散的鸡蛋液，待蛋液稍凝固时，用铲子快速翻炒，炒至鸡蛋成金黄色且蓬松状态时盛出备用。\n",
      "\n",
      "4. 锅中再加入少量食用油，油热后下入葱花爆香。\n",
      "\n",
      "5. 葱花炒出香味后，下入西红柿块，翻炒几下后加入适量糖（糖可以中和西红柿的酸味），继续翻炒至西红柿软烂出汁。\n",
      "\n",
      "6. 当西红柿炒至软烂，汤汁浓郁时，加入之前炒好的鸡蛋，轻轻翻炒，让鸡蛋充分吸收西红柿的汤汁。\n",
      "\n",
      "7. 根据个人口味加入适量的盐进行调味，翻炒均匀后即可出锅装盘。\n",
      "\n",
      "这样，一道美味可口、营养丰富的炒西红柿鸡蛋就做好了。\n"
     ]
    }
   ],
   "source": [
    "type(response.output.choices[0].message.content)\n",
    "print(response.output.choices[0].message.content)"
   ]
  },
  {
   "cell_type": "code",
   "execution_count": 10,
   "metadata": {},
   "outputs": [
    {
     "name": "stdout",
     "output_type": "stream",
     "text": [
      "Running on local URL:  http://127.0.0.1:7869\n",
      "\n",
      "To create a public link, set `share=True` in `launch()`.\n"
     ]
    },
    {
     "data": {
      "text/html": [
       "<div><iframe src=\"http://127.0.0.1:7869/\" width=\"100%\" height=\"500\" allow=\"autoplay; camera; microphone; clipboard-read; clipboard-write;\" frameborder=\"0\" allowfullscreen></iframe></div>"
      ],
      "text/plain": [
       "<IPython.core.display.HTML object>"
      ]
     },
     "metadata": {},
     "output_type": "display_data"
    },
    {
     "data": {
      "text/plain": []
     },
     "execution_count": 10,
     "metadata": {},
     "output_type": "execute_result"
    }
   ],
   "source": [
    "import gradio as gr\n",
    "\n",
    "def greet(name, intensity):\n",
    "    return \"Hello, \" + name + \"!\" * int(intensity)\n",
    "\n",
    "demo = gr.Interface(\n",
    "    fn=greet,\n",
    "    inputs=[\"text\", \"slider\"],\n",
    "    outputs=[\"text\"],\n",
    ")\n",
    "\n",
    "demo.launch()"
   ]
  }
 ],
 "metadata": {
  "kernelspec": {
   "display_name": "d2dl",
   "language": "python",
   "name": "python3"
  },
  "language_info": {
   "codemirror_mode": {
    "name": "ipython",
    "version": 3
   },
   "file_extension": ".py",
   "mimetype": "text/x-python",
   "name": "python",
   "nbconvert_exporter": "python",
   "pygments_lexer": "ipython3",
   "version": "3.10.13"
  }
 },
 "nbformat": 4,
 "nbformat_minor": 2
}
