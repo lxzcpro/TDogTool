{
 "cells": [
  {
   "cell_type": "code",
   "execution_count": 5,
   "metadata": {},
   "outputs": [
    {
     "name": "stdout",
     "output_type": "stream",
     "text": [
      "111\n",
      "{\"status_code\": 200, \"request_id\": \"6dc26d49-a0b9-9ec6-ae97-65c8ef1e1f76\", \"code\": \"\", \"message\": \"\", \"output\": {\"text\": null, \"finish_reason\": null, \"choices\": [{\"finish_reason\": \"stop\", \"message\": {\"role\": \"assistant\", \"content\": \"西湖大学是一所位于中国浙江省杭州市的非营利性私立研究型大学，成立于2018年。西湖大学以培养拔尖创新人才、开展高水平科学研究为宗旨，借鉴国际一流高校的办学模式，实行董事会领导下的校长负责制。\\n\\n西湖大学的创办受到了社会各界的关注和支持，其目标是建设成为世界一流的小而精、高起点、研究型的高等学府，聚焦基础科学、创新技术、生命健康、前沿交叉等方向，致力于为中国高等教育和科学技术的发展做出贡献。\"}}]}, \"usage\": {\"input_tokens\": 10, \"output_tokens\": 108, \"total_tokens\": 118}}\n"
     ]
    }
   ],
   "source": [
    "from http import HTTPStatus\n",
    "import dashscope\n",
    "import json\n",
    "\n",
    "# ! export DASHSCOPE_API_KEY=\"sk-20e47da95e6c47c4826330347b0a7ccc\"\n",
    "dashscope.api_key = api\n",
    "model_name = \"qwen_max\"\n",
    "input = \"西湖大学是什么东西\"\n",
    "\n",
    "def call_with_messages(input):\n",
    "    messages = [{'role': 'system', 'content': 'You are a helpful assistant.'},\n",
    "                {'role': 'user', 'content': input}]\n",
    "    \n",
    "    model = getattr(dashscope.Generation.Models, model_name)\n",
    "    response = dashscope.Generation.call(\n",
    "        model,\n",
    "        messages=messages,\n",
    "        result_format='message',  # set the result to be \"message\" format.\n",
    "    )\n",
    "    if response.status_code == HTTPStatus.OK:\n",
    "        return response\n",
    "    else:\n",
    "        print('Request id: %s, Status code: %s, error code: %s, error message: %s' % (\n",
    "            response.request_id, response.status_code,\n",
    "            response.code, response.message\n",
    "        ))\n",
    "\n",
    "response = call_with_messages(input)\n",
    "print(111)\n",
    "print(response)"
   ]
  },
  {
   "cell_type": "code",
   "execution_count": 6,
   "metadata": {},
   "outputs": [
    {
     "name": "stdout",
     "output_type": "stream",
     "text": [
      "西湖大学是一所位于中国浙江省杭州市的非营利性私立研究型大学，成立于2018年。西湖大学以培养拔尖创新人才、开展高水平科学研究为宗旨，借鉴国际一流高校的办学模式，实行董事会领导下的校长负责制。\n",
      "\n",
      "西湖大学的创办受到了社会各界的关注和支持，其目标是建设成为世界一流的小而精、高起点、研究型的高等学府，聚焦基础科学、创新技术、生命健康、前沿交叉等方向，致力于为中国高等教育和科学技术的发展做出贡献。\n"
     ]
    }
   ],
   "source": [
    "type(response.output.choices[0].message.content)\n",
    "print(response.output.choices[0].message.content)"
   ]
  },
  {
   "cell_type": "code",
   "execution_count": 7,
   "metadata": {},
   "outputs": [
    {
     "name": "stdout",
     "output_type": "stream",
     "text": [
      "Running on local URL:  http://127.0.0.1:7861\n",
      "\n",
      "To create a public link, set `share=True` in `launch()`.\n"
     ]
    },
    {
     "data": {
      "text/html": [
       "<div><iframe src=\"http://127.0.0.1:7861/\" width=\"100%\" height=\"500\" allow=\"autoplay; camera; microphone; clipboard-read; clipboard-write;\" frameborder=\"0\" allowfullscreen></iframe></div>"
      ],
      "text/plain": [
       "<IPython.core.display.HTML object>"
      ]
     },
     "metadata": {},
     "output_type": "display_data"
    },
    {
     "data": {
      "text/plain": []
     },
     "execution_count": 7,
     "metadata": {},
     "output_type": "execute_result"
    },
    {
     "name": "stderr",
     "output_type": "stream",
     "text": [
      "Exception in thread Thread-11 (_do_normal_analytics_request):\n",
      "Traceback (most recent call last):\n",
      "  File \"c:\\Users\\lxzcpro\\.conda\\envs\\py310\\lib\\site-packages\\httpx\\_transports\\default.py\", line 69, in map_httpcore_exceptions\n",
      "    yield\n",
      "  File \"c:\\Users\\lxzcpro\\.conda\\envs\\py310\\lib\\site-packages\\httpx\\_transports\\default.py\", line 233, in handle_request\n",
      "    resp = self._pool.handle_request(req)\n",
      "  File \"c:\\Users\\lxzcpro\\.conda\\envs\\py310\\lib\\site-packages\\httpcore\\_sync\\connection_pool.py\", line 216, in handle_request\n",
      "    raise exc from None\n",
      "  File \"c:\\Users\\lxzcpro\\.conda\\envs\\py310\\lib\\site-packages\\httpcore\\_sync\\connection_pool.py\", line 196, in handle_request\n",
      "    response = connection.handle_request(\n",
      "  File \"c:\\Users\\lxzcpro\\.conda\\envs\\py310\\lib\\site-packages\\httpcore\\_sync\\http_proxy.py\", line 317, in handle_request\n",
      "    stream = stream.start_tls(**kwargs)\n",
      "  File \"c:\\Users\\lxzcpro\\.conda\\envs\\py310\\lib\\site-packages\\httpcore\\_sync\\http11.py\", line 383, in start_tls\n",
      "    return self._stream.start_tls(ssl_context, server_hostname, timeout)\n",
      "  File \"c:\\Users\\lxzcpro\\.conda\\envs\\py310\\lib\\site-packages\\httpcore\\_backends\\sync.py\", line 152, in start_tls\n",
      "    with map_exceptions(exc_map):\n",
      "  File \"c:\\Users\\lxzcpro\\.conda\\envs\\py310\\lib\\contextlib.py\", line 153, in __exit__\n",
      "    self.gen.throw(typ, value, traceback)\n",
      "  File \"c:\\Users\\lxzcpro\\.conda\\envs\\py310\\lib\\site-packages\\httpcore\\_exceptions.py\", line 14, in map_exceptions\n",
      "    raise to_exc(exc) from exc\n",
      "httpcore.ConnectTimeout: _ssl.c:990: The handshake operation timed out\n",
      "\n",
      "The above exception was the direct cause of the following exception:\n",
      "\n",
      "Traceback (most recent call last):\n",
      "  File \"c:\\Users\\lxzcpro\\.conda\\envs\\py310\\lib\\threading.py\", line 1016, in _bootstrap_inner\n",
      "    self.run()\n",
      "  File \"c:\\Users\\lxzcpro\\.conda\\envs\\py310\\lib\\site-packages\\ipykernel\\ipkernel.py\", line 761, in run_closure\n",
      "    _threading_Thread_run(self)\n",
      "  File \"c:\\Users\\lxzcpro\\.conda\\envs\\py310\\lib\\threading.py\", line 953, in run\n",
      "    self._target(*self._args, **self._kwargs)\n",
      "  File \"c:\\Users\\lxzcpro\\.conda\\envs\\py310\\lib\\site-packages\\gradio\\analytics.py\", line 63, in _do_normal_analytics_request\n",
      "    httpx.post(url, data=data, timeout=5)\n",
      "  File \"c:\\Users\\lxzcpro\\.conda\\envs\\py310\\lib\\site-packages\\httpx\\_api.py\", line 319, in post\n",
      "    return request(\n",
      "  File \"c:\\Users\\lxzcpro\\.conda\\envs\\py310\\lib\\site-packages\\httpx\\_api.py\", line 106, in request\n",
      "    return client.request(\n",
      "  File \"c:\\Users\\lxzcpro\\.conda\\envs\\py310\\lib\\site-packages\\httpx\\_client.py\", line 827, in request\n",
      "    return self.send(request, auth=auth, follow_redirects=follow_redirects)\n",
      "  File \"c:\\Users\\lxzcpro\\.conda\\envs\\py310\\lib\\site-packages\\httpx\\_client.py\", line 914, in send\n",
      "    response = self._send_handling_auth(\n",
      "  File \"c:\\Users\\lxzcpro\\.conda\\envs\\py310\\lib\\site-packages\\httpx\\_client.py\", line 942, in _send_handling_auth\n",
      "    response = self._send_handling_redirects(\n",
      "  File \"c:\\Users\\lxzcpro\\.conda\\envs\\py310\\lib\\site-packages\\httpx\\_client.py\", line 979, in _send_handling_redirects\n",
      "    response = self._send_single_request(request)\n",
      "  File \"c:\\Users\\lxzcpro\\.conda\\envs\\py310\\lib\\site-packages\\httpx\\_client.py\", line 1015, in _send_single_request\n",
      "    response = transport.handle_request(request)\n",
      "  File \"c:\\Users\\lxzcpro\\.conda\\envs\\py310\\lib\\site-packages\\httpx\\_transports\\default.py\", line 232, in handle_request\n",
      "    with map_httpcore_exceptions():\n",
      "  File \"c:\\Users\\lxzcpro\\.conda\\envs\\py310\\lib\\contextlib.py\", line 153, in __exit__\n",
      "    self.gen.throw(typ, value, traceback)\n",
      "  File \"c:\\Users\\lxzcpro\\.conda\\envs\\py310\\lib\\site-packages\\httpx\\_transports\\default.py\", line 86, in map_httpcore_exceptions\n",
      "    raise mapped_exc(message) from exc\n",
      "httpx.ConnectTimeout: _ssl.c:990: The handshake operation timed out\n"
     ]
    },
    {
     "name": "stdout",
     "output_type": "stream",
     "text": [
      "Request id: cd5718c0-3e5b-9041-9d62-8f01c2a70aee, Status code: 400, error code: InvalidParameter, error message: Role must be user or assistant and Content length must be greater than 0\n"
     ]
    },
    {
     "name": "stderr",
     "output_type": "stream",
     "text": [
      "Traceback (most recent call last):\n",
      "  File \"c:\\Users\\lxzcpro\\.conda\\envs\\py310\\lib\\site-packages\\gradio\\queueing.py\", line 501, in call_prediction\n",
      "    output = await route_utils.call_process_api(\n",
      "  File \"c:\\Users\\lxzcpro\\.conda\\envs\\py310\\lib\\site-packages\\gradio\\route_utils.py\", line 252, in call_process_api\n",
      "    output = await app.get_blocks().process_api(\n",
      "  File \"c:\\Users\\lxzcpro\\.conda\\envs\\py310\\lib\\site-packages\\gradio\\blocks.py\", line 1664, in process_api\n",
      "    result = await self.call_function(\n",
      "  File \"c:\\Users\\lxzcpro\\.conda\\envs\\py310\\lib\\site-packages\\gradio\\blocks.py\", line 1205, in call_function\n",
      "    prediction = await anyio.to_thread.run_sync(\n",
      "  File \"c:\\Users\\lxzcpro\\.conda\\envs\\py310\\lib\\site-packages\\anyio\\to_thread.py\", line 56, in run_sync\n",
      "    return await get_async_backend().run_sync_in_worker_thread(\n",
      "  File \"c:\\Users\\lxzcpro\\.conda\\envs\\py310\\lib\\site-packages\\anyio\\_backends\\_asyncio.py\", line 2144, in run_sync_in_worker_thread\n",
      "    return await future\n",
      "  File \"c:\\Users\\lxzcpro\\.conda\\envs\\py310\\lib\\site-packages\\anyio\\_backends\\_asyncio.py\", line 851, in run\n",
      "    result = context.run(func, *args)\n",
      "  File \"c:\\Users\\lxzcpro\\.conda\\envs\\py310\\lib\\site-packages\\gradio\\utils.py\", line 690, in wrapper\n",
      "    response = f(*args, **kwargs)\n",
      "  File \"C:\\Users\\lxzcpro\\AppData\\Local\\Temp\\ipykernel_9160\\2882818179.py\", line 8, in response\n",
      "    return response.output.choices[0].message.content\n",
      "AttributeError: 'NoneType' object has no attribute 'output'\n"
     ]
    }
   ],
   "source": [
    "import gradio as gr\n",
    "\n",
    "def response(input):\n",
    "    response = call_with_messages(input)\n",
    "    return response.output.choices[0].message.content\n",
    "\n",
    "demo = gr.Interface(\n",
    "    fn=response,\n",
    "    inputs=[\"text\"],\n",
    "    outputs=[\"text\"],\n",
    ")\n",
    "\n",
    "demo.launch()"
   ]
  }
 ],
 "metadata": {
  "kernelspec": {
   "display_name": "py310",
   "language": "python",
   "name": "python3"
  },
  "language_info": {
   "codemirror_mode": {
    "name": "ipython",
    "version": 3
   },
   "file_extension": ".py",
   "mimetype": "text/x-python",
   "name": "python",
   "nbconvert_exporter": "python",
   "pygments_lexer": "ipython3",
   "version": "3.10.13"
  }
 },
 "nbformat": 4,
 "nbformat_minor": 2
}
